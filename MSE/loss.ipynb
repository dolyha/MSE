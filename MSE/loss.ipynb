{
 "cells": [
  {
   "cell_type": "code",
   "execution_count": 38,
   "metadata": {},
   "outputs": [
    {
     "name": "stdout",
     "output_type": "stream",
     "text": [
      "w= 0.0\n",
      "\t 3.0 4.0 0.0 16.0\n",
      "\t 4.0 5.0 0.0 25.0\n",
      "\t 5.0 6.0 0.0 36.0\n",
      "\t 6.0 7.0 0.0 49.0\n",
      "MSE= 31.5\n",
      "w= 0.5\n",
      "\t 3.0 4.0 1.5 6.25\n",
      "\t 4.0 5.0 2.0 9.0\n",
      "\t 5.0 6.0 2.5 12.25\n",
      "\t 6.0 7.0 3.0 16.0\n",
      "MSE= 10.875\n",
      "w= 1.0\n",
      "\t 3.0 4.0 3.0 1.0\n",
      "\t 4.0 5.0 4.0 1.0\n",
      "\t 5.0 6.0 5.0 1.0\n",
      "\t 6.0 7.0 6.0 1.0\n",
      "MSE= 1.0\n",
      "w= 1.5\n",
      "\t 3.0 4.0 4.5 0.25\n",
      "\t 4.0 5.0 6.0 1.0\n",
      "\t 5.0 6.0 7.5 2.25\n",
      "\t 6.0 7.0 9.0 4.0\n",
      "MSE= 1.875\n",
      "w= 2.0\n",
      "\t 3.0 4.0 6.0 4.0\n",
      "\t 4.0 5.0 8.0 9.0\n",
      "\t 5.0 6.0 10.0 16.0\n",
      "\t 6.0 7.0 12.0 25.0\n",
      "MSE= 13.5\n",
      "w= 2.5\n",
      "\t 3.0 4.0 7.5 12.25\n",
      "\t 4.0 5.0 10.0 25.0\n",
      "\t 5.0 6.0 12.5 42.25\n",
      "\t 6.0 7.0 15.0 64.0\n",
      "MSE= 35.875\n",
      "w= 3.0\n",
      "\t 3.0 4.0 9.0 25.0\n",
      "\t 4.0 5.0 12.0 49.0\n",
      "\t 5.0 6.0 15.0 81.0\n",
      "\t 6.0 7.0 18.0 121.0\n",
      "MSE= 69.0\n",
      "w= 3.5\n",
      "\t 3.0 4.0 10.5 42.25\n",
      "\t 4.0 5.0 14.0 81.0\n",
      "\t 5.0 6.0 17.5 132.25\n",
      "\t 6.0 7.0 21.0 196.0\n",
      "MSE= 112.875\n",
      "w= 4.0\n",
      "\t 3.0 4.0 12.0 64.0\n",
      "\t 4.0 5.0 16.0 121.0\n",
      "\t 5.0 6.0 20.0 196.0\n",
      "\t 6.0 7.0 24.0 289.0\n",
      "MSE= 167.5\n"
     ]
    }
   ],
   "source": [
    "import matplotlib.pyplot as plt\n",
    "import numpy as np\n",
    "import math\n",
    "from sklearn.metrics import mean_squared_error\n",
    "from math import sqrt\n",
    "%matplotlib inline\n",
    "plt.style.use('seaborn-whitegrid')\n",
    "\n",
    "#data loader\n",
    "x_raw = [3.0, 4.0, 5.0 , 6.0]\n",
    "y_raw = [4.0, 5.0, 6.0 , 7.0]\n",
    "\n",
    "#forward\n",
    "w = 1.0 # random a value for w\n",
    "def forward(x):\n",
    "    return x * w\n",
    "\n",
    "# Loss function\n",
    "def loss(x, y):\n",
    "    y_pred = forward(x) \n",
    "    return (y_pred - y) * (y_pred - y)\n",
    "#create list for m and l_sum\n",
    "m1 = []\n",
    "l1 = []\n",
    "#function compute MSE\n",
    "for w in np.arange(0.0, 4.1, 0.5):\n",
    "    print(\"w=\", w)\n",
    "    l_sum = 0  # initialize sum of loss\n",
    "    for x_val, y_val in zip(x_raw, y_raw):\n",
    "        y_pred_val = forward(x_val)\n",
    "        l = loss(x_val, y_val)  #call loss function\n",
    "        l_sum += l   #add loss \n",
    "        print(\"\\t\", x_val, y_val, y_pred_val, l)\n",
    "    print(\"MSE=\", l_sum / 4)\n",
    "\n",
    "    m1.append(w)   #add each w in loop for plot\n",
    "    l1.append(l_sum/4)   ######\n",
    "\n",
    "    \n"
   ]
  },
  {
   "cell_type": "code",
   "execution_count": 39,
   "metadata": {},
   "outputs": [
    {
     "data": {
      "image/png": "[encoded data removed]",
      "text/plain": [
       "<Figure size 432x288 with 1 Axes>"
      ]
     },
     "metadata": {},
     "output_type": "display_data"
    }
   ],
   "source": [
    "#visualize   \n",
    "plt.plot(m1, l1)\n",
    "plt.xlabel('w')\n",
    "plt.ylabel('loss')\n",
    "plt.show()"
   ]
  },
  {
   "cell_type": "code",
   "execution_count": null,
   "metadata": {},
   "outputs": [],
   "source": []
  }
 ],
 "metadata": {
  "kernelspec": {
   "display_name": "Python 3",
   "language": "python",
   "name": "python3"
  },
  "language_info": {
   "codemirror_mode": {
    "name": "ipython",
    "version": 3
   },
   "file_extension": ".py",
   "mimetype": "text/x-python",
   "name": "python",
   "nbconvert_exporter": "python",
   "pygments_lexer": "ipython3",
   "version": "3.6.5"
  }
 },
 "nbformat": 4,
 "nbformat_minor": 2
}
